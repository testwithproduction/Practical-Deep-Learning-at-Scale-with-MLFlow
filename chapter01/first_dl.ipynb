{
 "cells": [
  {
   "cell_type": "code",
   "execution_count": null,
   "id": "147c97f6-6a51-4130-acfd-c3289f459aae",
   "metadata": {},
   "outputs": [],
   "source": [
    "import torch\n",
    "print(torch.__version__)\n",
    "print(torch.backends.mps.is_available())\n",
    "print(torch.backends.mps.is_built())"
   ]
  },
  {
   "cell_type": "code",
   "execution_count": null,
   "id": "5ee87a73-5615-45f6-93a2-8101f825603d",
   "metadata": {},
   "outputs": [],
   "source": [
    "import flash"
   ]
  },
  {
   "cell_type": "code",
   "execution_count": null,
   "id": "613c133a-f7c0-4f9a-aeea-7777c86177c0",
   "metadata": {},
   "outputs": [],
   "source": [
    "from flash.core.data.utils import download_data\n",
    "from flash.text import TextClassificationData, TextClassifier"
   ]
  },
  {
   "cell_type": "code",
   "execution_count": null,
   "id": "0b36831c-e112-41d5-a0c5-b4709ea9957c",
   "metadata": {},
   "outputs": [],
   "source": [
    "print('### download IMDb data to local folder')\n",
    "download_data(\"https://pl-flash-data.s3.amazonaws.com/imdb.zip\", \"./data/\")"
   ]
  },
  {
   "cell_type": "code",
   "execution_count": null,
   "id": "a73244c4-c3be-477e-abef-12efb8a17bfd",
   "metadata": {},
   "outputs": [],
   "source": [
    "datamodule = TextClassificationData.from_csv(\n",
    "    \"review\",\n",
    "    \"sentiment\",\n",
    "    train_file=\"data/imdb/train.csv\",\n",
    "    val_file=\"data/imdb/valid.csv\",\n",
    "    test_file=\"data/imdb/test.csv\",\n",
    "    batch_size=4,\n",
    ")"
   ]
  },
  {
   "cell_type": "code",
   "execution_count": null,
   "id": "d699ea72-3340-40a4-a1bc-170f161f29dc",
   "metadata": {},
   "outputs": [],
   "source": [
    "print('### define a text classifier ')\n",
    "classifier_model = TextClassifier(backbone=\"prajjwal1/bert-tiny\", labels=datamodule.labels, num_classes=datamodule.num_classes)"
   ]
  },
  {
   "cell_type": "code",
   "execution_count": null,
   "id": "3869d161-f302-4c1e-91ad-792f712c0393",
   "metadata": {},
   "outputs": [],
   "source": [
    "# notice the difference here to use MPS instead of CUDA\n",
    "print('### define the trainer')\n",
    "trainer = flash.Trainer(max_epochs=4, accelerator=\"mps\", devices=1)"
   ]
  },
  {
   "cell_type": "code",
   "execution_count": null,
   "id": "9ccfa0dd-eb0c-4aa6-ae7a-5db2c9488b0e",
   "metadata": {},
   "outputs": [],
   "source": [
    "print('### fine tune the pretrained model to get a new model for sentiment classification')\n",
    "trainer.finetune(classifier_model, datamodule=datamodule, strategy=\"freeze\")"
   ]
  },
  {
   "cell_type": "code",
   "execution_count": null,
   "id": "ba8ae12f-251e-4f5f-b151-7f6387fc5694",
   "metadata": {},
   "outputs": [],
   "source": [
    "print('### get prediction outputs for two sample sentences')\n",
    "datamodule = TextClassificationData.from_lists(\n",
    "    predict_data=[\n",
    "        \"Turgid dialogue, feeble characterization - Harvey Keitel a judge?.\",\n",
    "        \"The worst movie in the history of cinema.\",\n",
    "        \"I come from Bulgaria where it 's almost impossible to have a tornado.\",\n",
    "    ],\n",
    "    batch_size=4,\n",
    ")\n",
    "predictions = trainer.predict(classifier_model, datamodule=datamodule, output=\"labels\")\n",
    "print(predictions)\n",
    "\n",
    "#print('### get classifier test results')\n",
    "#trainer.test()\n"
   ]
  },
  {
   "cell_type": "code",
   "execution_count": null,
   "id": "9390f315-852d-442f-a361-e1fd0cd7f0d1",
   "metadata": {},
   "outputs": [],
   "source": [
    "# This does not work. need to figure out why\n",
    "# trainer.test()"
   ]
  }
 ],
 "metadata": {
  "kernelspec": {
   "display_name": "Python 3",
   "language": "python",
   "name": "python3"
  },
  "language_info": {
   "codemirror_mode": {
    "name": "ipython",
    "version": 3
   },
   "file_extension": ".py",
   "mimetype": "text/x-python",
   "name": "python",
   "nbconvert_exporter": "python",
   "pygments_lexer": "ipython3",
   "version": "3.8.18"
  }
 },
 "nbformat": 4,
 "nbformat_minor": 5
}
