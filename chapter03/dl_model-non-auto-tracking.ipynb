{
 "cells": [
  {
   "cell_type": "code",
   "execution_count": 1,
   "metadata": {},
   "outputs": [
    {
     "name": "stderr",
     "output_type": "stream",
     "text": [
      "/Users/mingzhang/miniconda3/envs/pdl/lib/python3.8/site-packages/flash/__init__.py:21: FutureWarning: In the future `np.object` will be defined as the corresponding NumPy scalar.\n",
      "  if not hasattr(numpy, tp_name):\n",
      "/Users/mingzhang/miniconda3/envs/pdl/lib/python3.8/site-packages/flash/__init__.py:21: FutureWarning: In the future `np.bool` will be defined as the corresponding NumPy scalar.\n",
      "  if not hasattr(numpy, tp_name):\n"
     ]
    }
   ],
   "source": [
    "import flash\n",
    "import mlflow\n",
    "import torch\n",
    "from flash.core.data.utils import download_data\n",
    "from flash.text import TextClassificationData, TextClassifier\n",
    "import torchmetrics\n",
    "from lightning.pytorch.callbacks import ModelSummary\n",
    "#from pytorch_lightning.core.memory import ModelSummary\n",
    "import shutil\n",
    "import tempfile\n",
    "import os\n"
   ]
  },
  {
   "cell_type": "code",
   "execution_count": 2,
   "metadata": {},
   "outputs": [],
   "source": [
    "os.environ[\"AWS_ACCESS_KEY_ID\"] = \"minio\"\n",
    "os.environ[\"AWS_SECRET_ACCESS_KEY\"] = \"minio123\"\n",
    "os.environ[\"MLFLOW_S3_ENDPOINT_URL\"] = \"http://100.65.79.57:9000\""
   ]
  },
  {
   "cell_type": "code",
   "execution_count": 3,
   "metadata": {},
   "outputs": [],
   "source": [
    "def save_file_as_mlflow_artifact(file_content_string, file_name = 'model_summary.txt'):\n",
    "    tempdir = tempfile.mkdtemp()\n",
    "    try:\n",
    "        summary_file = os.path.join(tempdir, file_name)\n",
    "        with open(summary_file, \"w\") as f:\n",
    "            f.write(file_content_string)\n",
    "\n",
    "        mlflow.log_artifact(local_path=summary_file)\n",
    "    finally:\n",
    "        shutil.rmtree(tempdir)"
   ]
  },
  {
   "cell_type": "code",
   "execution_count": 4,
   "metadata": {},
   "outputs": [
    {
     "data": {
      "application/vnd.jupyter.widget-view+json": {
       "model_id": "2ddf6d83d27c4d86ab45f82065a6df1e",
       "version_major": 2,
       "version_minor": 0
      },
      "text/plain": [
       "Map:   0%|          | 0/22500 [00:00<?, ? examples/s]"
      ]
     },
     "metadata": {},
     "output_type": "display_data"
    },
    {
     "data": {
      "application/vnd.jupyter.widget-view+json": {
       "model_id": "208e4d1149cf44449bc7c719c34a0c4e",
       "version_major": 2,
       "version_minor": 0
      },
      "text/plain": [
       "Map:   0%|          | 0/2500 [00:00<?, ? examples/s]"
      ]
     },
     "metadata": {},
     "output_type": "display_data"
    },
    {
     "data": {
      "application/vnd.jupyter.widget-view+json": {
       "model_id": "bd15e782473f434ba5612ba255c1d84a",
       "version_major": 2,
       "version_minor": 0
      },
      "text/plain": [
       "Map:   0%|          | 0/2500 [00:00<?, ? examples/s]"
      ]
     },
     "metadata": {},
     "output_type": "display_data"
    },
    {
     "name": "stderr",
     "output_type": "stream",
     "text": [
      "/Users/mingzhang/miniconda3/envs/pdl/lib/python3.8/site-packages/IPython/core/interactiveshell.py:3508: FutureWarning: Please pass an instantiated object of the `InputTransform` class. Passing the Class and keyword arguments separately has been deprecated since v0.8.0 and will be removed in v0.9.0.\n",
      "  exec(code_obj, self.user_global_ns, self.user_ns)\n"
     ]
    }
   ],
   "source": [
    "download_data(\"https://pl-flash-data.s3.amazonaws.com/imdb.zip\", \"./data/\")\n",
    "datamodule = TextClassificationData.from_csv(\n",
    "    \"review\",\n",
    "    \"sentiment\",\n",
    "    train_file=\"data/imdb/train.csv\",\n",
    "    val_file=\"data/imdb/valid.csv\",\n",
    "    test_file=\"data/imdb/test.csv\",\n",
    "    batch_size=4,\n",
    ")"
   ]
  },
  {
   "cell_type": "code",
   "execution_count": 10,
   "metadata": {},
   "outputs": [],
   "source": [
    "# if we want to track multiple metrics simultaneously, define a list of metrics and pass it to the classifier metric parameter\n",
    "list_of_metrics = [torchmetrics.Accuracy(task=\"multiclass\", num_classes=datamodule.num_classes, top_k=1),\n",
    "                    torchmetrics.F1Score(task=\"multiclass\", num_classes=datamodule.num_classes, top_k=1),\n",
    "                    torchmetrics.Precision(task=\"multiclass\", num_classes=datamodule.num_classes, top_k=1),\n",
    "                    torchmetrics.Recall(task=\"multiclass\", num_classes=datamodule.num_classes, top_k=1)]"
   ]
  },
  {
   "cell_type": "code",
   "execution_count": 13,
   "metadata": {},
   "outputs": [
    {
     "name": "stderr",
     "output_type": "stream",
     "text": [
      "/Users/mingzhang/miniconda3/envs/pdl/lib/python3.8/site-packages/pytorch_lightning/utilities/parsing.py:269: Attribute 'metrics' is an instance of `nn.Module` and is already saved during checkpointing. It is recommended to ignore them using `self.save_hyperparameters(ignore=['metrics'])`.\n",
      "Using 'prajjwal1/bert-tiny' provided by Hugging Face/transformers (https://github.com/huggingface/transformers).\n",
      "Some weights of BertForSequenceClassification were not initialized from the model checkpoint at prajjwal1/bert-tiny and are newly initialized: ['classifier.bias', 'classifier.weight']\n",
      "You should probably TRAIN this model on a down-stream task to be able to use it for predictions and inference.\n",
      "GPU available: True (mps), used: True\n",
      "TPU available: False, using: 0 TPU cores\n",
      "IPU available: False, using: 0 IPUs\n",
      "HPU available: False, using: 0 HPUs\n"
     ]
    }
   ],
   "source": [
    "# uncomment the following line and comment out the immediate next line to use a list of metrics instead of a single metric during model training\n",
    "# classifier_model = TextClassifier(backbone=\"prajjwal1/bert-tiny\", num_classes=datamodule.num_classes, metrics=list_of_metrics)\n",
    "\n",
    "classifier_model = TextClassifier(backbone=\"prajjwal1/bert-tiny\", num_classes=datamodule.num_classes, metrics=torchmetrics.F1Score(task=\"multiclass\", num_classes=datamodule.num_classes, top_k=1))\n",
    "trainer = flash.Trainer(max_epochs=1, accelerator=\"mps\", devices=1)"
   ]
  },
  {
   "cell_type": "code",
   "execution_count": 14,
   "metadata": {},
   "outputs": [
    {
     "name": "stdout",
     "output_type": "stream",
     "text": [
      "experiment_id: 1\n"
     ]
    }
   ],
   "source": [
    "EXPERIMENT_NAME = \"dl_model_chapter03\"\n",
    "mlflow.set_tracking_uri('http://100.65.79.57')\n",
    "mlflow.set_experiment(EXPERIMENT_NAME)\n",
    "experiment = mlflow.get_experiment_by_name(EXPERIMENT_NAME)\n",
    "print(\"experiment_id:\", experiment.experiment_id)"
   ]
  },
  {
   "cell_type": "code",
   "execution_count": 15,
   "metadata": {},
   "outputs": [
    {
     "name": "stderr",
     "output_type": "stream",
     "text": [
      "\n",
      "  | Name          | Type               | Params\n",
      "-----------------------------------------------------\n",
      "0 | train_metrics | ModuleDict         | 0     \n",
      "1 | val_metrics   | ModuleDict         | 0     \n",
      "2 | test_metrics  | ModuleDict         | 0     \n",
      "3 | adapter       | HuggingFaceAdapter | 4.4 M \n",
      "-----------------------------------------------------\n",
      "258       Trainable params\n",
      "4.4 M     Non-trainable params\n",
      "4.4 M     Total params\n",
      "17.545    Total estimated model params size (MB)\n"
     ]
    },
    {
     "data": {
      "application/vnd.jupyter.widget-view+json": {
       "model_id": "",
       "version_major": 2,
       "version_minor": 0
      },
      "text/plain": [
       "Sanity Checking: 0it [00:00, ?it/s]"
      ]
     },
     "metadata": {},
     "output_type": "display_data"
    },
    {
     "data": {
      "application/vnd.jupyter.widget-view+json": {
       "model_id": "386735e6e0884b80ac15b4d85e11236e",
       "version_major": 2,
       "version_minor": 0
      },
      "text/plain": [
       "Training: 0it [00:00, ?it/s]"
      ]
     },
     "metadata": {},
     "output_type": "display_data"
    },
    {
     "data": {
      "application/vnd.jupyter.widget-view+json": {
       "model_id": "",
       "version_major": 2,
       "version_minor": 0
      },
      "text/plain": [
       "Validation: 0it [00:00, ?it/s]"
      ]
     },
     "metadata": {},
     "output_type": "display_data"
    },
    {
     "name": "stderr",
     "output_type": "stream",
     "text": [
      "`Trainer.fit` stopped: `max_epochs=1` reached.\n",
      "Registered model 'nlp_dl_model' already exists. Creating a new version of this model...\n",
      "2024/03/10 15:47:21 INFO mlflow.store.model_registry.abstract_store: Waiting up to 300 seconds for model version to finish creation. Model name: nlp_dl_model, version 4\n",
      "Created version '4' of model 'nlp_dl_model'.\n"
     ]
    }
   ],
   "source": [
    "MODEL_ARTIFACT_PATH = 'dl_model'\n",
    "REGISTERED_MODEL_NAME = 'nlp_dl_model'\n",
    "with mlflow.start_run(experiment_id=experiment.experiment_id, run_name=\"chapter03\") as dl_model_tracking_run:\n",
    "    trainer.finetune(classifier_model, datamodule=datamodule, strategy=\"freeze\")\n",
    "    #trainer.test()\n",
    "\n",
    "    # mlflow log metrics\n",
    "    cur_metrics = trainer.callback_metrics\n",
    "    # Cast metric value as  float before passing into logger.\n",
    "    metrics = dict(map(lambda x: (x[0], float(x[1])), cur_metrics.items()))\n",
    "    mlflow.log_metrics(metrics)\n",
    "\n",
    "    # mlflow log parameters\n",
    "    params = {\"epochs\": trainer.max_epochs}\n",
    "    if hasattr(trainer, \"optimizers\"):\n",
    "        optimizer = trainer.optimizers[0]\n",
    "        params[\"optimizer_name\"] = optimizer.__class__.__name__\n",
    "    if hasattr(optimizer, \"defaults\"):\n",
    "        params.update(optimizer.defaults)\n",
    "    # add hyper-parameters used in this training\n",
    "    params.update(classifier_model.hparams)\n",
    "    mlflow.log_params(params)\n",
    "\n",
    "    # log model summary as an artifact\n",
    "    summary = ModelSummary(classifier_model)\n",
    "    save_file_as_mlflow_artifact(str(summary))\n",
    "\n",
    "    # log and register the trained model\n",
    "    mlflow.pytorch.log_model(pytorch_model=classifier_model, artifact_path=MODEL_ARTIFACT_PATH, registered_model_name=REGISTERED_MODEL_NAME)\n"
   ]
  },
  {
   "cell_type": "code",
   "execution_count": 16,
   "metadata": {},
   "outputs": [
    {
     "name": "stdout",
     "output_type": "stream",
     "text": [
      "run_id: 2c33d1f109d1467ab81ded8374e4a87b; lifecycle_stage: active\n"
     ]
    }
   ],
   "source": [
    "run_id = dl_model_tracking_run.info.run_id\n",
    "print(\"run_id: {}; lifecycle_stage: {}\".format(run_id,\n",
    "    mlflow.get_run(run_id).info.lifecycle_stage))"
   ]
  },
  {
   "cell_type": "code",
   "execution_count": 17,
   "metadata": {},
   "outputs": [
    {
     "data": {
      "application/vnd.jupyter.widget-view+json": {
       "model_id": "400c6f6dbc6b4b9bb183030fc52a20cc",
       "version_major": 2,
       "version_minor": 0
      },
      "text/plain": [
       "Downloading artifacts:   0%|          | 0/6 [00:00<?, ?it/s]"
      ]
     },
     "metadata": {},
     "output_type": "display_data"
    },
    {
     "name": "stderr",
     "output_type": "stream",
     "text": [
      "GPU available: True (mps), used: True\n",
      "TPU available: False, using: 0 TPU cores\n",
      "IPU available: False, using: 0 IPUs\n",
      "HPU available: False, using: 0 HPUs\n"
     ]
    },
    {
     "data": {
      "application/vnd.jupyter.widget-view+json": {
       "model_id": "7e1f91a2929e4e63a4a40ad292898ca5",
       "version_major": 2,
       "version_minor": 0
      },
      "text/plain": [
       "Predicting: 0it [00:00, ?it/s]"
      ]
     },
     "metadata": {},
     "output_type": "display_data"
    },
    {
     "name": "stdout",
     "output_type": "stream",
     "text": [
      "[[0, 1, 0]]\n"
     ]
    }
   ],
   "source": [
    "logged_model = f'runs:/{run_id}/{MODEL_ARTIFACT_PATH}'\n",
    "# Load model as a pytorch model, not as the pyfunc model\n",
    "model = mlflow.pytorch.load_model(logged_model)\n",
    "# To bypass a lightning-flash's bug, we need to set the stage to test so a loaded model can be used to do prediction\n",
    "model.trainer.state.stage='test'\n",
    "trainer = flash.Trainer(max_epochs=1, accelerator=\"mps\", devices=1)\n",
    "datamodule = TextClassificationData.from_lists(\n",
    "    predict_data=[\n",
    "        \"Turgid dialogue, feeble characterization - Harvey Keitel a judge?.\",\n",
    "        \"The worst movie in the history of cinema.\",\n",
    "        \"This guy has done a great job with this movie!\",\n",
    "    ],\n",
    "    batch_size=4,\n",
    ")\n",
    "predictions = trainer.predict(model, datamodule=datamodule, output=\"labels\")\n",
    "print(predictions)"
   ]
  },
  {
   "cell_type": "code",
   "execution_count": null,
   "metadata": {},
   "outputs": [],
   "source": []
  }
 ],
 "metadata": {
  "interpreter": {
   "hash": "4d47e90b27931bd104cce25434f293e26636b078f01e1bbf5b25a98296951936"
  },
  "kernelspec": {
   "display_name": "Python 3 (ipykernel)",
   "language": "python",
   "name": "python3"
  },
  "language_info": {
   "codemirror_mode": {
    "name": "ipython",
    "version": 3
   },
   "file_extension": ".py",
   "mimetype": "text/x-python",
   "name": "python",
   "nbconvert_exporter": "python",
   "pygments_lexer": "ipython3",
   "version": "3.8.18"
  }
 },
 "nbformat": 4,
 "nbformat_minor": 4
}
